{
 "cells": [
  {
   "cell_type": "code",
   "execution_count": 1,
   "metadata": {},
   "outputs": [],
   "source": [
    "from imutils.perspective import four_point_transform\n",
    "\n",
    "from imutils import contours\n",
    "import numpy as np\n",
    "\n",
    "import imutils\n",
    "import cv2\n",
    "import random\n"
   ]
  },
  {
   "cell_type": "code",
   "execution_count": 101,
   "metadata": {},
   "outputs": [
    {
     "name": "stdout",
     "output_type": "stream",
     "text": [
      "Original Dimensions :  (1057, 3001, 3)\n",
      "sum of contour: 253\n",
      "num of contour 176\n"
     ]
    },
    {
     "data": {
      "text/plain": [
       "-1"
      ]
     },
     "execution_count": 101,
     "metadata": {},
     "output_type": "execute_result"
    }
   ],
   "source": [
    "image = cv2.imread(\"testcase2.jpg\")\n",
    "print('Original Dimensions : ',image.shape)\n",
    "scale_percent = 40 # percent of original size\n",
    "width = int(image.shape[1] * scale_percent / 100)\n",
    "height = int(image.shape[0] * scale_percent / 100)\n",
    "dim = (width, height) \n",
    "# resize image\n",
    "resized = cv2.resize(image, dim, interpolation = cv2.INTER_AREA)\n",
    " \n",
    "gray = cv2.cvtColor(resized, cv2.COLOR_BGR2GRAY)\n",
    "\n",
    "\n",
    "\n",
    "blurred = cv2.GaussianBlur(gray, (5, 5),1.44)\n",
    "\n",
    "\n",
    "#edged = cv2.Canny(blurred, 75, 200)\n",
    "\n",
    "ELLIPSE_KERNEL = cv2.getStructuringElement(cv2.MORPH_ELLIPSE, (70, 70))\n",
    "Black_Hat = cv2.morphologyEx(blurred, cv2.MORPH_BLACKHAT, ELLIPSE_KERNEL)\n",
    "cv2.imshow(\"Black_Hat\", Black_Hat)\n",
    "cv2.waitKey(0)\n",
    "cv2.destroyAllWindows()\n",
    "\n",
    "edged = cv2.Canny(Black_Hat, 245, 250)\n",
    "#thresh = cv2.threshold(Black_Hat.copy(), 0, 255,cv2.THRESH_BINARY_INV | cv2.THRESH_OTSU)[1]\n",
    "#cv2.imshow(\"thresh\", thresh)\n",
    "#cv2.waitKey(0)\n",
    "#cv2.destroyAllWindows()\n",
    "\n",
    "\n",
    "\n",
    "\n",
    "\n",
    "#contours = cv2.findContours(thresh.copy(), cv2.RETR_EXTERNAL,\n",
    "#cv2.CHAIN_APPROX_SIMPLE)\n",
    "#contours = imutils.grab_contours(contours)\n",
    "\n",
    "contours, _ = cv2.findContours(edged.copy(), cv2.RETR_EXTERNAL, cv2.CHAIN_APPROX_SIMPLE)\n",
    "hierarchy = _[0]\n",
    "All_cnts= cv2.drawContours(resized.copy(), contours, -1, (0, 0, 255), 2)\n",
    "print(\"sum of contour:\",len(contours))\n",
    "# show the output image\n",
    "cv2.imshow(\"All Contours\", All_cnts)\n",
    "cv2.waitKey(0)\n",
    "clone = resized.copy()\n",
    "questionCnts = []\n",
    "i = 0\n",
    "for c in contours:\n",
    "    approx = cv2.approxPolyDP(c, 0.01* cv2.arcLength(c,True), True)\n",
    "    area = cv2.contourArea(c)\n",
    "    \n",
    "    if ((len(approx) > 7) & (area > 500) ):\n",
    "        i +=1\n",
    "        questionCnts.append(c)\n",
    "        #questionCnts = sorted(questionCnts, key=lambda x: cv2.contourArea(x),reverse=False)\n",
    "\n",
    "print(\"num of contour\",i)\n",
    "cv2.drawContours(clone, questionCnts,  -1, (255,0,0), 2)\n",
    "cv2.imshow('khoanh contour',clone)\n",
    "cv2.waitKey(0)\n",
    "\n",
    "#contourSort = sort_contours(questionCnts, method=\"top-to-bottom\")[0]\n",
    "#boundingBoxes = [cv2.boundingRect(c) for c in questionCnts]\n",
    "#(contourSort, boundingBoxes) = zip(*sorted(zip(questionCnts, boundingBoxes),key=lambda b:b[1][0], reverse=True))\n",
    "#contourSort = sorted(contourSort, key=lambda x: cv2.contourArea(x),reverse=False)\n",
    "#boundingBoxes1 = [cv2.boundingRect(c) for c in contourSort]\n",
    "#(contourSort1, boundingBoxes1) = zip(*sorted(zip(questionCnts, boundingBoxes),key=lambda b:b[1][1], reverse=False))\n",
    "#print(len(contourSort))\n",
    "\n",
    "\n",
    "\n",
    "    "
   ]
  },
  {
   "cell_type": "code",
   "execution_count": 102,
   "metadata": {},
   "outputs": [
    {
     "name": "stdout",
     "output_type": "stream",
     "text": [
      "so luong contour 16\n"
     ]
    },
    {
     "data": {
      "text/plain": [
       "-1"
      ]
     },
     "execution_count": 102,
     "metadata": {},
     "output_type": "execute_result"
    }
   ],
   "source": [
    "\n",
    "thresh_img = cv2.adaptiveThreshold(blurred, 255,cv2.ADAPTIVE_THRESH_MEAN_C, cv2.THRESH_BINARY_INV, 45, 15)\n",
    "\n",
    "cv2.imshow(\"Thresh\", thresh_img)\n",
    "# perform connected components analysis on the thresholded images and\n",
    "# initialize the mask to hold only the \"large\" components we are interested in\n",
    "_, labels = cv2.connectedComponents(thresh_img)\n",
    "mask = np.zeros(thresh_img.shape, dtype=\"uint8\")\n",
    "\n",
    "# loop over the unique components\n",
    "for (i, label) in enumerate(np.unique(labels)):\n",
    "# if this is the background label, ignore it\n",
    "\n",
    "    labelMask = np.zeros(thresh_img.shape, dtype=\"uint8\")\n",
    "    labelMask[labels == label] = 255\n",
    "    numofPixels = cv2.countNonZero(labelMask)\n",
    "   # print(\" numPixels:\".format(numofPixels))\n",
    "    if numofPixels > 500 and numofPixels < 2000:\n",
    "        mask = cv2.add(mask, labelMask)\n",
    "\n",
    "cv2.imshow(\"Mask\", mask)\n",
    "cv2.waitKey(0)\n",
    "\n",
    "# find external contours in the image\n",
    "cnts, _ = cv2.findContours(mask.copy(), cv2.RETR_EXTERNAL, \n",
    "cv2.CHAIN_APPROX_SIMPLE)\n",
    "clone = resized.copy()\n",
    "\n",
    "# loop over the contours\n",
    "AnswersCnt = []\n",
    "i = 0\n",
    "for c in cnts:\n",
    "\n",
    "    (x, y, w, h) = cv2.boundingRect(c)\n",
    "\n",
    "    ar = w/float(h)\n",
    "\n",
    "    if w >= 20 and h >= 20 and ar >= 0.1 and ar <= 1.2:\n",
    "        i+=1\n",
    "        AnswersCnt.append(c)\n",
    "# show the output image\n",
    "print(\"so luong contour\",i)\n",
    "cv2.drawContours(clone, AnswersCnt,  -1, (0,255,0), 2)\n",
    "cv2.imshow('khoanh contour',clone)\n",
    "cv2.waitKey(0)\n",
    "#(cnts, boundingBoxes) = contours.sort_contours(AnswersCnt, method=\"top-to-bottom\")\n",
    "\n"
   ]
  },
  {
   "cell_type": "code",
   "execution_count": 103,
   "metadata": {},
   "outputs": [],
   "source": [
    "def sort_contours(cnts, method=\"left-to-right\"):\n",
    "    # initialize the reverse flag and sort index\n",
    "    reverse = False\n",
    "    i = 0\n",
    "    # handle if we need to sort in reverse\n",
    "    if method == \"right-to-left\" or method == \"bottom-to-top\":\n",
    "        reverse = True\n",
    "    # handle if we are sorting against the y-coordinate rather than\n",
    "    # the x-coordinate of the bounding box\n",
    "    if method == \"top-to-bottom\" or method == \"bottom-to-top\":\n",
    "        i = 1\n",
    "    # construct the list of bounding boxes and sort them from top to\n",
    "    # bottom\n",
    "    boundingBoxes = [cv2.boundingRect(c) for c in cnts]\n",
    "    (cnts, boundingBoxes) = zip(*sorted(zip(cnts, boundingBoxes),\n",
    "        key=lambda b:b[1][i], reverse=reverse))\n",
    "    # return the list of sorted contours and bounding boxes\n",
    "    return (cnts, boundingBoxes)"
   ]
  },
  {
   "cell_type": "code",
   "execution_count": 106,
   "metadata": {},
   "outputs": [
    {
     "data": {
      "text/plain": [
       "-1"
      ]
     },
     "execution_count": 106,
     "metadata": {},
     "output_type": "execute_result"
    }
   ],
   "source": [
    "anscnts = []\n",
    "ansfi =resized.copy() \n",
    "tempSortContour = sort_contours(questionCnts, method=\"top-to-bottom\")[0]\n",
    "for (q, i) in enumerate(np.arange(0, len(tempSortContour), 22)):\n",
    "    \n",
    "    # gán màu cho contour\n",
    "    color = (random.randint(0, 255),random.randint(0, 255),random.randint(0, 255))\n",
    "    # Sap xep cac contour theo cot\n",
    "    cnts = sort_contours(tempSortContour[i:i + 22])[0]\n",
    "    anscnts.append(cnts)\n",
    "\n",
    "# loop over the contours\n",
    "\n",
    "\n",
    "for i in range(len(anscnts)):\n",
    "    for j in range( len(anscnts[i])):\n",
    "        M = cv2.moments(anscnts[i][j])\n",
    "        cX = int(M[\"m10\"] / M[\"m00\"])\n",
    "        cY = int(M[\"m01\"] / M[\"m00\"])\n",
    "        \n",
    "        #print(cX)\n",
    "        for each in AnswersCnt:\n",
    "            N = cv2.moments(each)\n",
    "            nX = int(N[\"m10\"] / N[\"m00\"])\n",
    "            nY = int(N[\"m01\"] / N[\"m00\"])\n",
    "            dist = cv2.pointPolygonTest(anscnts[i][j],(nX,nY),True)\n",
    "            if dist >= 0:\n",
    "                #print(j)\n",
    "                if j == 0: #vang\n",
    "                    cv2.putText(clone, \"Vang\", (cX+1030, cY), cv2.FONT_HERSHEY_SIMPLEX,1.0, (0, 0, 255), 2)\n",
    "                    \n",
    "                if(j <= 11 and j > 0):\n",
    "                    j = j-1\n",
    "                    cv2.putText(clone, str(j), (1100, nY), cv2.FONT_HERSHEY_SIMPLEX,1.0, (0, 0, 255), 2)\n",
    "                    \n",
    "                if(j > 11):\n",
    "                    j = j -12\n",
    "                    cv2.putText(clone, \".\"+str(j), (1125, nY), cv2.FONT_HERSHEY_SIMPLEX,1.0, (0, 0, 255), 2)\n",
    "                \n",
    "cv2.imshow(\"Final Answer\",clone)\n",
    "cv2.waitKey(0)\n",
    "               \n",
    "       \n",
    "\n",
    "\n"
   ]
  },
  {
   "cell_type": "code",
   "execution_count": null,
   "metadata": {},
   "outputs": [],
   "source": []
  },
  {
   "cell_type": "code",
   "execution_count": null,
   "metadata": {},
   "outputs": [],
   "source": []
  }
 ],
 "metadata": {
  "kernelspec": {
   "display_name": "Python 3",
   "language": "python",
   "name": "python3"
  },
  "language_info": {
   "codemirror_mode": {
    "name": "ipython",
    "version": 3
   },
   "file_extension": ".py",
   "mimetype": "text/x-python",
   "name": "python",
   "nbconvert_exporter": "python",
   "pygments_lexer": "ipython3",
   "version": "3.8.5"
  }
 },
 "nbformat": 4,
 "nbformat_minor": 4
}
